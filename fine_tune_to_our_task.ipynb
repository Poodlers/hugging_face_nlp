{
 "cells": [
  {
   "cell_type": "code",
   "execution_count": null,
   "metadata": {},
   "outputs": [],
   "source": [
    "from transformers import pipeline\n",
    "\n",
    "model_name = \"camembert-base\" # camembert-base\n",
    "classifier = pipeline( model=model_name)"
   ]
  },
  {
   "cell_type": "code",
   "execution_count": null,
   "metadata": {},
   "outputs": [],
   "source": [
    "import torch\n",
    "device = torch.device(\"cuda\" if torch.cuda.is_available() else \"cpu\")"
   ]
  },
  {
   "cell_type": "code",
   "execution_count": null,
   "metadata": {},
   "outputs": [],
   "source": [
    "\n",
    "\n",
    "from transformers import AutoTokenizer, AutoModelForSequenceClassification\n",
    "\n",
    "num_labels=4\n",
    "model = AutoModelForSequenceClassification.from_pretrained(model_name, num_labels=num_labels, problem_type=\"multi_label_classification\").to(device)\n",
    "tokenizer = AutoTokenizer.from_pretrained(model_name,  problem_type=\"multi_label_classification\")\n"
   ]
  },
  {
   "attachments": {},
   "cell_type": "markdown",
   "metadata": {},
   "source": [
    "Now that we’ve tokenized our movie reviews, the next step is to group them all together and split the result into chunks. But how big should these chunks be?"
   ]
  },
  {
   "cell_type": "code",
   "execution_count": null,
   "metadata": {},
   "outputs": [],
   "source": [
    "import pandas as pd\n",
    "\n",
    "# Read the data from the file\n",
    "data_garmin_df = pd.read_csv('data/Garmin_Connect.csv')\n",
    "data_samsung_df = pd.read_csv('data/Samsung_Health.csv')\n",
    "data_huawei_df = pd.read_csv('data/Huawei_Health.csv')\n",
    "\n",
    "data = pd.concat([data_garmin_df, data_samsung_df, data_huawei_df], ignore_index=True)\n",
    "\n",
    "print(data.head())"
   ]
  },
  {
   "attachments": {},
   "cell_type": "markdown",
   "metadata": {},
   "source": [
    "## Tokenizing"
   ]
  },
  {
   "cell_type": "code",
   "execution_count": null,
   "metadata": {},
   "outputs": [],
   "source": [
    "def tokenize_function(example):\n",
    "    return tokenizer(example, padding=\"max_length\", truncation=True)\n",
    "\n",
    "\n",
    "data['list'] = data[data.columns[2:]].values.tolist()\n",
    "new_df = data[['data', 'list']].copy()\n",
    "new_df"
   ]
  },
  {
   "cell_type": "code",
   "execution_count": 6,
   "metadata": {},
   "outputs": [],
   "source": [
    "# Sections of config\n",
    "\n",
    "# Defining some key variables that will be used later on in the training\n",
    "MAX_LEN = 200\n",
    "TRAIN_BATCH_SIZE = 8\n",
    "VALID_BATCH_SIZE = 4\n",
    "EPOCHS = 3\n",
    "LEARNING_RATE = 1e-05\n",
    "\n"
   ]
  },
  {
   "cell_type": "code",
   "execution_count": null,
   "metadata": {},
   "outputs": [],
   "source": [
    "\n",
    "from torch.utils.data import Dataset\n",
    "\n",
    "class CustomDataset(Dataset):\n",
    "\n",
    "    def __init__(self, dataframe, tokenizer, max_len):\n",
    "        self.tokenizer = tokenizer\n",
    "        self.data = dataframe\n",
    "        self.comment_text = dataframe.data\n",
    "        self.targets = self.data.list\n",
    "        self.max_len = max_len\n",
    "\n",
    "    def __len__(self):\n",
    "        return len(self.comment_text)\n",
    "\n",
    "    def __getitem__(self, index):\n",
    "        comment_text = str(self.comment_text[index])\n",
    "        comment_text = \" \".join(comment_text.split())\n",
    "\n",
    "        inputs = self.tokenizer.encode_plus(\n",
    "            comment_text,\n",
    "            None,\n",
    "            add_special_tokens=True,\n",
    "            max_length=self.max_len,\n",
    "            pad_to_max_length=True,\n",
    "            return_token_type_ids=True\n",
    "        )\n",
    "        ids = inputs['input_ids']\n",
    "        mask = inputs['attention_mask']\n",
    "        token_type_ids = inputs[\"token_type_ids\"]\n",
    "\n",
    "\n",
    "        return {\n",
    "            'input_ids': torch.tensor(ids, dtype=torch.long),\n",
    "            'attention_mask': torch.tensor(mask, dtype=torch.long),\n",
    "            'token_type_ids': torch.tensor(token_type_ids, dtype=torch.long),\n",
    "            'labels': torch.tensor(self.targets[index], dtype=torch.float)\n",
    "        }"
   ]
  },
  {
   "attachments": {},
   "cell_type": "markdown",
   "metadata": {},
   "source": [
    "## Train-test split"
   ]
  },
  {
   "cell_type": "code",
   "execution_count": null,
   "metadata": {},
   "outputs": [],
   "source": [
    "# Creating the dataset and dataloader for the neural network\n",
    "\n",
    "train_size = 0.8\n",
    "train_dataset=new_df.sample(frac=train_size,random_state=200)\n",
    "test_dataset=new_df.drop(train_dataset.index).reset_index(drop=True)\n",
    "train_dataset = train_dataset.reset_index(drop=True)\n",
    "\n",
    "\n",
    "\n",
    "print(\"FULL Dataset: {}\".format(new_df.shape))\n",
    "print(\"TRAIN Dataset: {}\".format(train_dataset.shape))\n",
    "print(\"TEST Dataset: {}\".format(test_dataset.shape))\n",
    "\n",
    "training_set = CustomDataset(train_dataset, tokenizer, MAX_LEN)\n",
    "testing_set = CustomDataset(test_dataset, tokenizer, MAX_LEN)\n"
   ]
  },
  {
   "attachments": {},
   "cell_type": "markdown",
   "metadata": {},
   "source": [
    "## Defining evaluation metrics with Evaluate module\n"
   ]
  },
  {
   "cell_type": "code",
   "execution_count": 7,
   "metadata": {},
   "outputs": [],
   "source": [
    "from transformers import TrainingArguments\n",
    "import numpy as np\n",
    "\n",
    "training_args = TrainingArguments(output_dir=\"test_trainer\", evaluation_strategy=\"epoch\", num_train_epochs=EPOCHS, save_strategy=\"epoch\",\n",
    "                         learning_rate=LEARNING_RATE, per_device_train_batch_size=TRAIN_BATCH_SIZE, per_device_eval_batch_size=VALID_BATCH_SIZE\n",
    "                , load_best_model_at_end=True, metric_for_best_model=\"accuracy\", logging_dir='logs', logging_first_step=True, do_train=True, do_eval=True)\n",
    "\n",
    "from sklearn.metrics import accuracy_score, f1_score, precision_score, recall_score\n",
    "\n",
    "def compute_metrics(eval_pred):\n",
    "    predictions, labels = eval_pred.predictions, eval_pred.label_ids\n",
    "\n",
    "    predictions = np.vectorize(lambda x: 1 if x >= 0.2 else 0)(predictions) # Apply threshold (0.5) to raw probabilities to get labels\n",
    "\n",
    "    accuracy = accuracy_score(labels, predictions)\n",
    "    precision = precision_score(labels, predictions, average='macro',zero_division=0)\n",
    "    recall = recall_score(labels, predictions, average='macro', zero_division=0)\n",
    "    f1 = f1_score(labels, predictions, average='macro',zero_division=0)\n",
    "    \n",
    "    return {\n",
    "        'accuracy': accuracy,\n",
    "        'precision': precision,\n",
    "        'recall': recall,\n",
    "        'f1': f1\n",
    "    }"
   ]
  },
  {
   "cell_type": "code",
   "execution_count": null,
   "metadata": {},
   "outputs": [],
   "source": [
    "from transformers import Trainer\n",
    "\n",
    "trainer = Trainer(\n",
    "    model=model,\n",
    "    args=training_args,\n",
    "    train_dataset=training_set,\n",
    "    eval_dataset=testing_set,\n",
    "    compute_metrics=compute_metrics,\n",
    ")\n",
    "\n"
   ]
  },
  {
   "cell_type": "code",
   "execution_count": null,
   "metadata": {},
   "outputs": [],
   "source": [
    "trainer.train()\n"
   ]
  },
  {
   "cell_type": "code",
   "execution_count": null,
   "metadata": {},
   "outputs": [],
   "source": [
    "trainer.evaluate()"
   ]
  },
  {
   "attachments": {},
   "cell_type": "markdown",
   "metadata": {},
   "source": [
    "### Save the model and retrieved metrics"
   ]
  },
  {
   "cell_type": "code",
   "execution_count": null,
   "metadata": {},
   "outputs": [],
   "source": [
    "trainer.save_model(\"./models\")\n",
    "trainer.save_metrics(\"eval\", trainer.evaluate())"
   ]
  },
  {
   "attachments": {},
   "cell_type": "markdown",
   "metadata": {},
   "source": [
    "### Config the model's labels"
   ]
  },
  {
   "cell_type": "code",
   "execution_count": 3,
   "metadata": {},
   "outputs": [],
   "source": [
    "# Define your label list\n",
    "label_list = ['rating', 'bug_report', 'feature_request', 'user_experience']\n",
    "\n",
    "# Set the label mapping in the model's config\n",
    "model.config.label2id = {label: i for i, label in enumerate(label_list)}\n",
    "model.config.id2label = {i: label for i, label in enumerate(label_list)}"
   ]
  },
  {
   "cell_type": "code",
   "execution_count": 12,
   "metadata": {},
   "outputs": [
    {
     "name": "stderr",
     "output_type": "stream",
     "text": [
      "c:\\Pyhton310\\lib\\site-packages\\transformers\\pipelines\\text_classification.py:104: UserWarning: `return_all_scores` is now deprecated,  if want a similar funcionality use `top_k=None` instead of `return_all_scores=True` or `top_k=1` instead of `return_all_scores=False`.\n",
      "  warnings.warn(\n"
     ]
    },
    {
     "name": "stdout",
     "output_type": "stream",
     "text": [
      "Cest tré bien!\n",
      "[{'label': 'rating', 'score': 0.94001704454422}]\n",
      "\n",
      "Je ne arrive pas a faire login!! Merde!\n",
      "[{'label': 'bug_report', 'score': 0.9031999707221985}]\n",
      "\n",
      "Je encontré un bug\n",
      "[{'label': 'bug_report', 'score': 0.9208457469940186}]\n",
      "\n",
      "Je voudrais avoir plus de fonctionnalités\n",
      "[{'label': 'feature_request', 'score': 0.7491875290870667}]\n",
      "\n",
      "\n",
      "Accuracy:  0.75\n",
      "Precision:  0.625\n",
      "Recall:  0.625\n",
      "F1:  0.5833333333333333\n"
     ]
    }
   ],
   "source": [
    "# 0 -> rating\n",
    "# 1 -> bug_report\n",
    "# 2 -> feature_request\n",
    "# 3 -> user_experience\n",
    "\n",
    "from transformers import AutoModelForSequenceClassification, AutoTokenizer, pipeline\n",
    "from torch.utils.data import DataLoader\n",
    "\n",
    "\n",
    "test_texts = [\"Cest tré bien!\", \"Je ne arrive pas a faire login!! Merde!\",\"Je encontré un bug\", \"Je voudrais avoir plus de fonctionnalités\"]\n",
    "test_labels = [[1, 0, 0, 0], [1, 0, 0, 0],[0,1,0,0],[0,0,1,0] ]\n",
    "\n",
    "model_name = \"camembert-base\"\n",
    "#load model from ./models folder\n",
    "\n",
    "model = AutoModelForSequenceClassification.from_pretrained(\"./models\")\n",
    "tokenizer = AutoTokenizer.from_pretrained(model_name,  problem_type=\"multi_label_classification\")\n",
    "\n",
    "# Make predictions\n",
    "loaded_model = pipeline(\"text-classification\",model=model, tokenizer=tokenizer, return_all_scores=True)\n",
    "predictions = loaded_model(test_texts)\n",
    "\n",
    "# Set the threshold for label prediction\n",
    "threshold = 0.5\n",
    "predictions = [ [predict for predict in individual_prediction if predict[\"score\"] > threshold] for individual_prediction in predictions]\n",
    "\n",
    "for i,text in enumerate(test_texts):\n",
    "    print(text)\n",
    "    print(predictions[i])\n",
    "    print(\"\")\n",
    "\n",
    "predictions_one_hot = []\n",
    "for prediction in predictions:\n",
    "    one_hot = [0,0,0,0]\n",
    "    for predict in prediction:\n",
    "        one_hot[label_list.index(predict[\"label\"])] = 1\n",
    "    predictions_one_hot.append(one_hot)\n",
    "# one hot encode the predictions\n",
    "\n",
    "\n",
    "# Compute metrics\n",
    "accuracy = accuracy_score(test_labels, predictions_one_hot)\n",
    "precision = precision_score(test_labels, predictions_one_hot, average='macro',zero_division=0)\n",
    "recall = recall_score(test_labels, predictions_one_hot, average='macro', zero_division=0)\n",
    "f1 = f1_score(test_labels, predictions_one_hot, average='macro',zero_division=0)\n",
    "\n",
    "print(\"\\nAccuracy: \", accuracy)\n",
    "print(\"Precision: \", precision)\n",
    "print(\"Recall: \", recall)\n",
    "print(\"F1: \", f1)\n",
    "\n",
    "\n"
   ]
  },
  {
   "cell_type": "code",
   "execution_count": null,
   "metadata": {},
   "outputs": [],
   "source": []
  }
 ],
 "metadata": {
  "kernelspec": {
   "display_name": "Python 3",
   "language": "python",
   "name": "python3"
  },
  "language_info": {
   "codemirror_mode": {
    "name": "ipython",
    "version": 3
   },
   "file_extension": ".py",
   "mimetype": "text/x-python",
   "name": "python",
   "nbconvert_exporter": "python",
   "pygments_lexer": "ipython3",
   "version": "3.10.11"
  },
  "orig_nbformat": 4
 },
 "nbformat": 4,
 "nbformat_minor": 2
}
